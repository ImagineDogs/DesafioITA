{
 "cells": [
  {
   "cell_type": "markdown",
   "metadata": {},
   "source": [
    "# LightGBM\n",
    "### Modelo LightGBM utilizando apenas as variáveis categóricas da base de dados"
   ]
  },
  {
   "cell_type": "code",
   "execution_count": 546,
   "metadata": {},
   "outputs": [],
   "source": [
    "import pandas as pd\n",
    "import numpy as np\n",
    "import lightgbm as lgb\n",
    "import matplotlib.pyplot as plt\n",
    "from sklearn import metrics\n",
    "from sklearn.metrics import f1_score\n",
    "from sklearn.model_selection import train_test_split"
   ]
  },
  {
   "cell_type": "markdown",
   "metadata": {},
   "source": [
    "## Dataframes"
   ]
  },
  {
   "cell_type": "code",
   "execution_count": 547,
   "metadata": {},
   "outputs": [],
   "source": [
    "df_public = pd.read_csv('dados/public.csv')\n",
    "df_metar = pd.read_csv('dados/metar.csv', low_memory=False)"
   ]
  },
  {
   "cell_type": "markdown",
   "metadata": {},
   "source": [
    "## Tratamento"
   ]
  },
  {
   "cell_type": "code",
   "execution_count": 548,
   "metadata": {},
   "outputs": [],
   "source": [
    "df_public['hora_ref'] = np.int8(df_public['hora_ref'].str[11:13])\n",
    "df_public['origem'] = df_public['origem'].astype('category')\n",
    "df_public['destino'] = df_public['destino'].astype('category')"
   ]
  },
  {
   "cell_type": "code",
   "execution_count": 549,
   "metadata": {},
   "outputs": [],
   "source": [
    "\n",
    "cat_columns = df_public.select_dtypes(['category']).columns\n",
    "df_public[cat_columns] = df_public[cat_columns].apply(lambda x: x.cat.codes)"
   ]
  },
  {
   "cell_type": "code",
   "execution_count": 550,
   "metadata": {},
   "outputs": [],
   "source": [
    "df_model = df_public[[\n",
    "    'hora_ref',\n",
    "    'origem',\n",
    "    'destino',\n",
    "    'prev_troca_cabeceira',\n",
    "    'troca_cabeceira_hora_anterior',\n",
    "    'espera'\n",
    "]]"
   ]
  },
  {
   "cell_type": "markdown",
   "metadata": {},
   "source": [
    "## Datasets de Treino e Teste"
   ]
  },
  {
   "cell_type": "code",
   "execution_count": 551,
   "metadata": {},
   "outputs": [],
   "source": [
    "# Dataframe para envio na competição\n",
    "df_test_final = df_model[df_model.espera.isnull()].drop('espera',axis=1)\n",
    "\n",
    "# Dataframes de treino e teste\n",
    "df_train_inicial = df_model[~df_model.espera.isnull()]\n",
    "X_train_inicial = df_train_inicial.drop('espera', axis=1)\n",
    "y_train_inicial = df_train_inicial['espera']\n",
    "\n",
    "X_train, X_test, y_train, y_test = train_test_split(\n",
    "    X_train_inicial, y_train_inicial, test_size=0.20, random_state=42, stratify=y_train_inicial)"
   ]
  },
  {
   "cell_type": "code",
   "execution_count": 552,
   "metadata": {},
   "outputs": [],
   "source": [
    "train_data_lgb = lgb.Dataset(X_train, label=y_train, categorical_feature=['origem','destino','prev_troca_cabeceira','troca_cabeceira_hora_anterior'])\n",
    "validation_data_lgb = lgb.Dataset(X_test, label=y_test, categorical_feature=['origem','destino','prev_troca_cabeceira','troca_cabeceira_hora_anterior'])"
   ]
  },
  {
   "cell_type": "markdown",
   "metadata": {},
   "source": [
    "## Parâmetros"
   ]
  },
  {
   "cell_type": "code",
   "execution_count": 553,
   "metadata": {},
   "outputs": [],
   "source": [
    "param = {'num_leaves': 70, 'objective': 'binary', 'metric': 'auc'}"
   ]
  },
  {
   "cell_type": "markdown",
   "metadata": {},
   "source": [
    "## Treino"
   ]
  },
  {
   "cell_type": "code",
   "execution_count": 555,
   "metadata": {},
   "outputs": [
    {
     "name": "stdout",
     "output_type": "stream",
     "text": [
      "[LightGBM] [Info] Number of positive: 2949, number of negative: 166394\n",
      "[LightGBM] [Info] Auto-choosing row-wise multi-threading, the overhead of testing was 0.002572 seconds.\n",
      "You can set `force_row_wise=true` to remove the overhead.\n",
      "And if memory is not enough, you can set `force_col_wise=true`.\n",
      "[LightGBM] [Info] Total Bins 56\n",
      "[LightGBM] [Info] Number of data points in the train set: 169343, number of used features: 5\n",
      "[LightGBM] [Info] [binary:BoostFromScore]: pavg=0.017414 -> initscore=-4.032892\n",
      "[LightGBM] [Info] Start training from score -4.032892\n"
     ]
    }
   ],
   "source": [
    "num_round = 10\n",
    "bst = lgb.train(param, train_data_lgb, num_round, valid_sets=[validation_data_lgb])"
   ]
  },
  {
   "cell_type": "code",
   "execution_count": 556,
   "metadata": {},
   "outputs": [],
   "source": [
    "y_pred = bst.predict(X_test,num_iteration=bst.best_iteration)"
   ]
  },
  {
   "cell_type": "code",
   "execution_count": 557,
   "metadata": {},
   "outputs": [
    {
     "name": "stdout",
     "output_type": "stream",
     "text": [
      "0.08946877912395154\n"
     ]
    }
   ],
   "source": [
    "print(f1_score(y_test.to_list(), np.int8(y_pred > 0.042).tolist(), average='binary'))"
   ]
  },
  {
   "cell_type": "code",
   "execution_count": 558,
   "metadata": {},
   "outputs": [
    {
     "data": {
      "image/png": "[encoded data removed]",
      "text/plain": [
       "<Figure size 640x480 with 1 Axes>"
      ]
     },
     "metadata": {},
     "output_type": "display_data"
    }
   ],
   "source": [
    "fpr, tpr, thresholds = metrics.roc_curve(y_test, y_pred)\n",
    "roc_auc = metrics.auc(fpr, tpr)\n",
    "display = metrics.RocCurveDisplay(fpr=fpr, tpr=tpr, roc_auc=roc_auc,\n",
    "                                  estimator_name='LightGBM')\n",
    "display.plot()\n",
    "plt.show()"
   ]
  },
  {
   "cell_type": "markdown",
   "metadata": {},
   "source": [
    "## Teste e Submissão"
   ]
  },
  {
   "cell_type": "code",
   "execution_count": 559,
   "metadata": {},
   "outputs": [],
   "source": [
    "sub = df_public[df_public.espera.isnull()].drop('espera',axis=1).flightid"
   ]
  },
  {
   "cell_type": "code",
   "execution_count": 560,
   "metadata": {},
   "outputs": [],
   "source": [
    "threshold = 0.044"
   ]
  },
  {
   "cell_type": "code",
   "execution_count": 561,
   "metadata": {},
   "outputs": [],
   "source": [
    "sub = pd.DataFrame(sub)\n",
    "y_pred = bst.predict(df_test_final)\n",
    "sub['espera'] = np.int8(y_pred > threshold)"
   ]
  },
  {
   "cell_type": "code",
   "execution_count": 562,
   "metadata": {},
   "outputs": [
    {
     "data": {
      "text/plain": [
       "'2295 de 90720 voos classificados como atrasados com threshold 0.044'"
      ]
     },
     "execution_count": 562,
     "metadata": {},
     "output_type": "execute_result"
    }
   ],
   "source": [
    "(y_pred > threshold).any()\n",
    "f'{sub.espera.sum()} de {sub.shape[0]} voos classificados como atrasados com threshold {threshold}'"
   ]
  },
  {
   "cell_type": "code",
   "execution_count": 563,
   "metadata": {},
   "outputs": [],
   "source": [
    "sub.to_csv('submission_lightgbm.csv',index=False)"
   ]
  }
 ],
 "metadata": {
  "kernelspec": {
   "display_name": "Python 3",
   "language": "python",
   "name": "python3"
  },
  "language_info": {
   "codemirror_mode": {
    "name": "ipython",
    "version": 3
   },
   "file_extension": ".py",
   "mimetype": "text/x-python",
   "name": "python",
   "nbconvert_exporter": "python",
   "pygments_lexer": "ipython3",
   "version": "3.12.3"
  }
 },
 "nbformat": 4,
 "nbformat_minor": 2
}
