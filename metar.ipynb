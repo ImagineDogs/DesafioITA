{
 "cells": [
  {
   "cell_type": "code",
   "execution_count": 1,
   "metadata": {},
   "outputs": [
    {
     "name": "stdout",
     "output_type": "stream",
     "text": [
      "Requirement already satisfied: metpy in c:\\users\\pedro\\appdata\\local\\programs\\python\\python311\\lib\\site-packages (1.6.2)\n",
      "Requirement already satisfied: matplotlib>=3.5.0 in c:\\users\\pedro\\appdata\\local\\programs\\python\\python311\\lib\\site-packages (from metpy) (3.8.2)\n",
      "Requirement already satisfied: numpy>=1.20.0 in c:\\users\\pedro\\appdata\\local\\programs\\python\\python311\\lib\\site-packages (from metpy) (1.26.2)\n",
      "Requirement already satisfied: pandas>=1.4.0 in c:\\users\\pedro\\appdata\\local\\programs\\python\\python311\\lib\\site-packages (from metpy) (2.1.3)\n",
      "Requirement already satisfied: pint>=0.17 in c:\\users\\pedro\\appdata\\local\\programs\\python\\python311\\lib\\site-packages (from metpy) (0.23)\n",
      "Requirement already satisfied: pooch>=1.2.0 in c:\\users\\pedro\\appdata\\local\\programs\\python\\python311\\lib\\site-packages (from metpy) (1.8.1)\n",
      "Requirement already satisfied: pyproj>=3.0.0 in c:\\users\\pedro\\appdata\\local\\programs\\python\\python311\\lib\\site-packages (from metpy) (3.6.1)\n",
      "Requirement already satisfied: scipy>=1.8.0 in c:\\users\\pedro\\appdata\\local\\programs\\python\\python311\\lib\\site-packages (from metpy) (1.11.3)\n",
      "Requirement already satisfied: traitlets>=5.0.5 in c:\\users\\pedro\\appdata\\roaming\\python\\python311\\site-packages (from metpy) (5.13.0)\n",
      "Requirement already satisfied: xarray>=0.21.0 in c:\\users\\pedro\\appdata\\local\\programs\\python\\python311\\lib\\site-packages (from metpy) (2024.3.0)\n",
      "Requirement already satisfied: contourpy>=1.0.1 in c:\\users\\pedro\\appdata\\local\\programs\\python\\python311\\lib\\site-packages (from matplotlib>=3.5.0->metpy) (1.2.0)\n",
      "Requirement already satisfied: cycler>=0.10 in c:\\users\\pedro\\appdata\\local\\programs\\python\\python311\\lib\\site-packages (from matplotlib>=3.5.0->metpy) (0.12.1)\n",
      "Requirement already satisfied: fonttools>=4.22.0 in c:\\users\\pedro\\appdata\\local\\programs\\python\\python311\\lib\\site-packages (from matplotlib>=3.5.0->metpy) (4.44.3)\n",
      "Requirement already satisfied: kiwisolver>=1.3.1 in c:\\users\\pedro\\appdata\\local\\programs\\python\\python311\\lib\\site-packages (from matplotlib>=3.5.0->metpy) (1.4.5)\n",
      "Requirement already satisfied: packaging>=20.0 in c:\\users\\pedro\\appdata\\local\\programs\\python\\python311\\lib\\site-packages (from matplotlib>=3.5.0->metpy) (23.2)\n",
      "Requirement already satisfied: pillow>=8 in c:\\users\\pedro\\appdata\\local\\programs\\python\\python311\\lib\\site-packages (from matplotlib>=3.5.0->metpy) (9.3.0)\n",
      "Requirement already satisfied: pyparsing>=2.3.1 in c:\\users\\pedro\\appdata\\local\\programs\\python\\python311\\lib\\site-packages (from matplotlib>=3.5.0->metpy) (3.1.1)\n",
      "Requirement already satisfied: python-dateutil>=2.7 in c:\\users\\pedro\\appdata\\local\\programs\\python\\python311\\lib\\site-packages (from matplotlib>=3.5.0->metpy) (2.8.2)\n",
      "Requirement already satisfied: pytz>=2020.1 in c:\\users\\pedro\\appdata\\local\\programs\\python\\python311\\lib\\site-packages (from pandas>=1.4.0->metpy) (2023.3.post1)\n",
      "Requirement already satisfied: tzdata>=2022.1 in c:\\users\\pedro\\appdata\\local\\programs\\python\\python311\\lib\\site-packages (from pandas>=1.4.0->metpy) (2023.3)\n",
      "Requirement already satisfied: typing-extensions in c:\\users\\pedro\\appdata\\local\\programs\\python\\python311\\lib\\site-packages (from pint>=0.17->metpy) (4.4.0)\n",
      "Requirement already satisfied: platformdirs>=2.5.0 in c:\\users\\pedro\\appdata\\roaming\\python\\python311\\site-packages (from pooch>=1.2.0->metpy) (4.0.0)\n",
      "Requirement already satisfied: requests>=2.19.0 in c:\\users\\pedro\\appdata\\local\\programs\\python\\python311\\lib\\site-packages (from pooch>=1.2.0->metpy) (2.28.1)\n",
      "Requirement already satisfied: certifi in c:\\users\\pedro\\appdata\\local\\programs\\python\\python311\\lib\\site-packages (from pyproj>=3.0.0->metpy) (2024.2.2)\n",
      "Requirement already satisfied: six>=1.5 in c:\\users\\pedro\\appdata\\local\\programs\\python\\python311\\lib\\site-packages (from python-dateutil>=2.7->matplotlib>=3.5.0->metpy) (1.16.0)\n",
      "Requirement already satisfied: charset-normalizer<3,>=2 in c:\\users\\pedro\\appdata\\local\\programs\\python\\python311\\lib\\site-packages (from requests>=2.19.0->pooch>=1.2.0->metpy) (2.1.1)\n",
      "Requirement already satisfied: idna<4,>=2.5 in c:\\users\\pedro\\appdata\\local\\programs\\python\\python311\\lib\\site-packages (from requests>=2.19.0->pooch>=1.2.0->metpy) (3.4)\n",
      "Requirement already satisfied: urllib3<1.27,>=1.21.1 in c:\\users\\pedro\\appdata\\local\\programs\\python\\python311\\lib\\site-packages (from requests>=2.19.0->pooch>=1.2.0->metpy) (1.26.13)\n"
     ]
    },
    {
     "name": "stderr",
     "output_type": "stream",
     "text": [
      "\n",
      "[notice] A new release of pip is available: 23.2.1 -> 24.0\n",
      "[notice] To update, run: python.exe -m pip install --upgrade pip\n"
     ]
    }
   ],
   "source": [
    "!pip install metpy"
   ]
  },
  {
   "cell_type": "code",
   "execution_count": 2,
   "metadata": {},
   "outputs": [],
   "source": [
    "import glob\n",
    "import pandas as pd\n",
    "from zipfile import ZipFile\n",
    "from datetime import datetime\n",
    "from metpy.io.metar import *\n",
    "import re\n",
    "import metpy"
   ]
  },
  {
   "cell_type": "code",
   "execution_count": 3,
   "metadata": {},
   "outputs": [
    {
     "data": {
      "text/plain": [
       "'1.6.2'"
      ]
     },
     "execution_count": 3,
     "metadata": {},
     "output_type": "execute_result"
    }
   ],
   "source": [
    "metpy.__version__"
   ]
  },
  {
   "cell_type": "code",
   "execution_count": 4,
   "metadata": {},
   "outputs": [],
   "source": [
    "if 'data-science-challenge-at-eef-2024.zip' not in glob.glob('*'):\n",
    "    !kaggle competitions download -c data-science-challenge-at-eef-2024\n",
    "\n",
    "    with ZipFile('data-science-challenge-at-eef-2024.zip') as zip:\n",
    "        zip.extractall()"
   ]
  },
  {
   "cell_type": "code",
   "execution_count": 5,
   "metadata": {},
   "outputs": [
    {
     "name": "stdout",
     "output_type": "stream",
     "text": [
      "(302399, 10)\n"
     ]
    },
    {
     "data": {
      "text/html": [
       "<div>\n",
       "<style scoped>\n",
       "    .dataframe tbody tr th:only-of-type {\n",
       "        vertical-align: middle;\n",
       "    }\n",
       "\n",
       "    .dataframe tbody tr th {\n",
       "        vertical-align: top;\n",
       "    }\n",
       "\n",
       "    .dataframe thead th {\n",
       "        text-align: right;\n",
       "    }\n",
       "</style>\n",
       "<table border=\"1\" class=\"dataframe\">\n",
       "  <thead>\n",
       "    <tr style=\"text-align: right;\">\n",
       "      <th></th>\n",
       "      <th>flightid</th>\n",
       "      <th>hora_ref</th>\n",
       "      <th>origem</th>\n",
       "      <th>destino</th>\n",
       "      <th>url_img_satelite</th>\n",
       "      <th>metaf</th>\n",
       "      <th>metar</th>\n",
       "      <th>prev_troca_cabeceira</th>\n",
       "      <th>troca_cabeceira_hora_anterior</th>\n",
       "      <th>espera</th>\n",
       "    </tr>\n",
       "  </thead>\n",
       "  <tbody>\n",
       "    <tr>\n",
       "      <th>0</th>\n",
       "      <td>504a62621cd231d6ab67e674ce538cd3</td>\n",
       "      <td>2022-06-01T01:00:00Z</td>\n",
       "      <td>SBCF</td>\n",
       "      <td>SBFL</td>\n",
       "      <td>http://satelite.cptec.inpe.br/repositoriogoes/...</td>\n",
       "      <td>NaN</td>\n",
       "      <td>METAR SBFL 010000Z 17009KT 140V200 9999 BKN030...</td>\n",
       "      <td>0</td>\n",
       "      <td>1</td>\n",
       "      <td>0.0</td>\n",
       "    </tr>\n",
       "    <tr>\n",
       "      <th>1</th>\n",
       "      <td>b0fd0f83644625ecc21f5261e8e5e347</td>\n",
       "      <td>2022-06-01T01:00:00Z</td>\n",
       "      <td>SBPA</td>\n",
       "      <td>SBFL</td>\n",
       "      <td>http://satelite.cptec.inpe.br/repositoriogoes/...</td>\n",
       "      <td>NaN</td>\n",
       "      <td>METAR SBFL 010000Z 17009KT 140V200 9999 BKN030...</td>\n",
       "      <td>0</td>\n",
       "      <td>1</td>\n",
       "      <td>0.0</td>\n",
       "    </tr>\n",
       "    <tr>\n",
       "      <th>2</th>\n",
       "      <td>1210f0ca07ddca00d09a3e02d3b100d8</td>\n",
       "      <td>2022-06-01T01:00:00Z</td>\n",
       "      <td>SBSP</td>\n",
       "      <td>SBCF</td>\n",
       "      <td>http://satelite.cptec.inpe.br/repositoriogoes/...</td>\n",
       "      <td>NaN</td>\n",
       "      <td>METAR SBCF 010000Z 12006KT CAVOK 21/14 Q1018=</td>\n",
       "      <td>0</td>\n",
       "      <td>0</td>\n",
       "      <td>0.0</td>\n",
       "    </tr>\n",
       "    <tr>\n",
       "      <th>3</th>\n",
       "      <td>b25032f34507cce285ee779446496568</td>\n",
       "      <td>2022-06-01T01:00:00Z</td>\n",
       "      <td>SBGR</td>\n",
       "      <td>SBCT</td>\n",
       "      <td>http://satelite.cptec.inpe.br/repositoriogoes/...</td>\n",
       "      <td>NaN</td>\n",
       "      <td>METAR SBCT 010000Z 10006KT 7000 -RA BKN004 OVC...</td>\n",
       "      <td>0</td>\n",
       "      <td>0</td>\n",
       "      <td>0.0</td>\n",
       "    </tr>\n",
       "    <tr>\n",
       "      <th>4</th>\n",
       "      <td>00762a9892ecba7c66d1d87800d38cac</td>\n",
       "      <td>2022-06-01T01:00:00Z</td>\n",
       "      <td>SBSP</td>\n",
       "      <td>SBSV</td>\n",
       "      <td>http://satelite.cptec.inpe.br/repositoriogoes/...</td>\n",
       "      <td>NaN</td>\n",
       "      <td>METAR SBSV 010000Z 11008KT 9999 FEW023 27/21 Q...</td>\n",
       "      <td>0</td>\n",
       "      <td>1</td>\n",
       "      <td>0.0</td>\n",
       "    </tr>\n",
       "  </tbody>\n",
       "</table>\n",
       "</div>"
      ],
      "text/plain": [
       "                           flightid              hora_ref origem destino  \\\n",
       "0  504a62621cd231d6ab67e674ce538cd3  2022-06-01T01:00:00Z   SBCF    SBFL   \n",
       "1  b0fd0f83644625ecc21f5261e8e5e347  2022-06-01T01:00:00Z   SBPA    SBFL   \n",
       "2  1210f0ca07ddca00d09a3e02d3b100d8  2022-06-01T01:00:00Z   SBSP    SBCF   \n",
       "3  b25032f34507cce285ee779446496568  2022-06-01T01:00:00Z   SBGR    SBCT   \n",
       "4  00762a9892ecba7c66d1d87800d38cac  2022-06-01T01:00:00Z   SBSP    SBSV   \n",
       "\n",
       "                                    url_img_satelite metaf  \\\n",
       "0  http://satelite.cptec.inpe.br/repositoriogoes/...   NaN   \n",
       "1  http://satelite.cptec.inpe.br/repositoriogoes/...   NaN   \n",
       "2  http://satelite.cptec.inpe.br/repositoriogoes/...   NaN   \n",
       "3  http://satelite.cptec.inpe.br/repositoriogoes/...   NaN   \n",
       "4  http://satelite.cptec.inpe.br/repositoriogoes/...   NaN   \n",
       "\n",
       "                                               metar  prev_troca_cabeceira  \\\n",
       "0  METAR SBFL 010000Z 17009KT 140V200 9999 BKN030...                     0   \n",
       "1  METAR SBFL 010000Z 17009KT 140V200 9999 BKN030...                     0   \n",
       "2      METAR SBCF 010000Z 12006KT CAVOK 21/14 Q1018=                     0   \n",
       "3  METAR SBCT 010000Z 10006KT 7000 -RA BKN004 OVC...                     0   \n",
       "4  METAR SBSV 010000Z 11008KT 9999 FEW023 27/21 Q...                     0   \n",
       "\n",
       "   troca_cabeceira_hora_anterior  espera  \n",
       "0                              1     0.0  \n",
       "1                              1     0.0  \n",
       "2                              0     0.0  \n",
       "3                              0     0.0  \n",
       "4                              1     0.0  "
      ]
     },
     "execution_count": 5,
     "metadata": {},
     "output_type": "execute_result"
    }
   ],
   "source": [
    "df = pd.read_csv('public.csv')\n",
    "print(df.shape)\n",
    "df.head()"
   ]
  },
  {
   "cell_type": "code",
   "execution_count": 6,
   "metadata": {},
   "outputs": [],
   "source": [
    "# Criando uma variavel de Ano-Mes\n",
    "df['data_ref'] = df['hora_ref'].apply(lambda x: x[:7])"
   ]
  },
  {
   "cell_type": "markdown",
   "metadata": {},
   "source": [
    "## Tratando dados meteorologicos"
   ]
  },
  {
   "cell_type": "markdown",
   "metadata": {},
   "source": [
    "Dados:  \n",
    "- METAR (Meteorological Aerodrome Report) (Real)\n",
    "\n",
    "- METAF (Terminal Aerodrome Forecast) (Previsto)\n",
    "\n",
    "O METAR, sigla de Meteorological Aerodrome Report, é o informe meteorológico regular de aeródromo e contém as seguintes informações na sequência:\n",
    "\n",
    "- Grupos de identificação;  \n",
    "- Vento à superfície;  \n",
    "- Visibilidade horizontal; \n",
    "- Alcance visual na pista (quando houver); \n",
    "- Tempo presente; \n",
    "- Nuvens (ou visibilidade vertical, se for o caso); \n",
    "- Temperaturas do ar e do ponto de orvalho; \n",
    "- Pressão atmosférica (QNH); e  \n",
    "- Informações suplementares de inclusão condicional sobre tempo recente, cortante do vento, temperatura da superfície do mar, estado do mar e, por Acordo Regional de Navegação Aérea, o estado da pista.  "
   ]
  },
  {
   "cell_type": "markdown",
   "metadata": {},
   "source": [
    "Grupo de Identificação \n",
    "\n",
    "METAR SBMN 061300Z 31015G27KT 280V350 5000 1500W -RA BKN010 SCT020 FEW025TCU 25/24 Q1014 RERA WS RWY17 W12/H75= \n",
    "\n",
    "METAR – Designador do código para informação meteorológica aeronáutica regular. Quando houver alguma mudança significativa fora do horário de confecção da mensagem METAR, o observador meteorológico deverá confeccionar a mensagem do tipo SPECI, sendo este campo substituído.\n",
    "\n",
    "SBMN – código ICAO do aeroporto (S de América do Sul, B de Brasil e MN identificando o aeroporto de Manaus). \n",
    "\n",
    "061300Z – Dia do mês e horário da observação, em horas e minutos UTC, seguidos, sem espaço, da letra Z,  indicando o fuso horário ZULU. \n",
    "\n"
   ]
  },
  {
   "cell_type": "markdown",
   "metadata": {},
   "source": [
    "Alguns informes podem vir com a sigla COR apor o METAR, indicando uma correcao posterior daquele codigo, para esses casos os dados podem nao vir com a letra Z ao final do timestamp, portanto devemos tratar esse caso para decodificacao do informe."
   ]
  },
  {
   "cell_type": "code",
   "execution_count": 7,
   "metadata": {},
   "outputs": [],
   "source": [
    "# Preenchendo dados reais nulos por dados previstos\n",
    "    # Alguns casos podem nao possuir tanto dados reais quanto previstos\n",
    "df.loc[df['metar'].isna(), 'metar'] = df.loc[df['metar'].isna(), 'metaf']\n",
    "\n",
    "# Substituir o texto METAF por METAR\n",
    "df['metar'] = df['metar'].apply(lambda txt: re.sub('METAF', 'METAR', str(txt)))"
   ]
  },
  {
   "cell_type": "code",
   "execution_count": 8,
   "metadata": {},
   "outputs": [],
   "source": [
    "# Funcao para ajustar dados meteorologicos com falta de informacao temporal\n",
    "def metar_fix(txt):\n",
    "    txt = str(txt)\n",
    "    if txt != None and txt != 'nan':  \n",
    "        first_position = txt.find('SB')\n",
    "        second_position = txt[first_position+5:].find(' ')\n",
    "        final_position = first_position+5+second_position\n",
    "        if txt[final_position-1] != 'Z':\n",
    "            txt = txt[:final_position] + 'Z' + txt[final_position:]\n",
    "        return txt\n",
    "\n",
    "df['metar'] = df['metar'].apply(metar_fix)"
   ]
  },
  {
   "cell_type": "code",
   "execution_count": 9,
   "metadata": {},
   "outputs": [
    {
     "name": "stderr",
     "output_type": "stream",
     "text": [
      "C:\\Users\\pedro\\AppData\\Local\\Temp\\ipykernel_34408\\1401959602.py:15: FutureWarning: The behavior of DataFrame concatenation with empty or all-NA entries is deprecated. In a future version, this will no longer exclude empty or all-NA columns when determining the result dtypes. To retain the old behavior, exclude the relevant entries before the concat operation.\n",
      "  df_final = pd.concat([df_final, aux])\n",
      "C:\\Users\\pedro\\AppData\\Local\\Temp\\ipykernel_34408\\1401959602.py:15: FutureWarning: The behavior of DataFrame concatenation with empty or all-NA entries is deprecated. In a future version, this will no longer exclude empty or all-NA columns when determining the result dtypes. To retain the old behavior, exclude the relevant entries before the concat operation.\n",
      "  df_final = pd.concat([df_final, aux])\n",
      "C:\\Users\\pedro\\AppData\\Local\\Temp\\ipykernel_34408\\1401959602.py:15: FutureWarning: The behavior of DataFrame concatenation with empty or all-NA entries is deprecated. In a future version, this will no longer exclude empty or all-NA columns when determining the result dtypes. To retain the old behavior, exclude the relevant entries before the concat operation.\n",
      "  df_final = pd.concat([df_final, aux])\n",
      "C:\\Users\\pedro\\AppData\\Local\\Temp\\ipykernel_34408\\1401959602.py:15: FutureWarning: The behavior of DataFrame concatenation with empty or all-NA entries is deprecated. In a future version, this will no longer exclude empty or all-NA columns when determining the result dtypes. To retain the old behavior, exclude the relevant entries before the concat operation.\n",
      "  df_final = pd.concat([df_final, aux])\n",
      "C:\\Users\\pedro\\AppData\\Local\\Temp\\ipykernel_34408\\1401959602.py:15: FutureWarning: The behavior of DataFrame concatenation with empty or all-NA entries is deprecated. In a future version, this will no longer exclude empty or all-NA columns when determining the result dtypes. To retain the old behavior, exclude the relevant entries before the concat operation.\n",
      "  df_final = pd.concat([df_final, aux])\n",
      "C:\\Users\\pedro\\AppData\\Local\\Temp\\ipykernel_34408\\1401959602.py:15: FutureWarning: The behavior of DataFrame concatenation with empty or all-NA entries is deprecated. In a future version, this will no longer exclude empty or all-NA columns when determining the result dtypes. To retain the old behavior, exclude the relevant entries before the concat operation.\n",
      "  df_final = pd.concat([df_final, aux])\n",
      "C:\\Users\\pedro\\AppData\\Local\\Temp\\ipykernel_34408\\1401959602.py:15: FutureWarning: The behavior of DataFrame concatenation with empty or all-NA entries is deprecated. In a future version, this will no longer exclude empty or all-NA columns when determining the result dtypes. To retain the old behavior, exclude the relevant entries before the concat operation.\n",
      "  df_final = pd.concat([df_final, aux])\n",
      "C:\\Users\\pedro\\AppData\\Local\\Temp\\ipykernel_34408\\1401959602.py:15: FutureWarning: The behavior of DataFrame concatenation with empty or all-NA entries is deprecated. In a future version, this will no longer exclude empty or all-NA columns when determining the result dtypes. To retain the old behavior, exclude the relevant entries before the concat operation.\n",
      "  df_final = pd.concat([df_final, aux])\n",
      "C:\\Users\\pedro\\AppData\\Local\\Temp\\ipykernel_34408\\1401959602.py:15: FutureWarning: The behavior of DataFrame concatenation with empty or all-NA entries is deprecated. In a future version, this will no longer exclude empty or all-NA columns when determining the result dtypes. To retain the old behavior, exclude the relevant entries before the concat operation.\n",
      "  df_final = pd.concat([df_final, aux])\n",
      "C:\\Users\\pedro\\AppData\\Local\\Temp\\ipykernel_34408\\1401959602.py:15: FutureWarning: The behavior of DataFrame concatenation with empty or all-NA entries is deprecated. In a future version, this will no longer exclude empty or all-NA columns when determining the result dtypes. To retain the old behavior, exclude the relevant entries before the concat operation.\n",
      "  df_final = pd.concat([df_final, aux])\n",
      "C:\\Users\\pedro\\AppData\\Local\\Temp\\ipykernel_34408\\1401959602.py:15: FutureWarning: The behavior of DataFrame concatenation with empty or all-NA entries is deprecated. In a future version, this will no longer exclude empty or all-NA columns when determining the result dtypes. To retain the old behavior, exclude the relevant entries before the concat operation.\n",
      "  df_final = pd.concat([df_final, aux])\n",
      "C:\\Users\\pedro\\AppData\\Local\\Temp\\ipykernel_34408\\1401959602.py:15: FutureWarning: The behavior of DataFrame concatenation with empty or all-NA entries is deprecated. In a future version, this will no longer exclude empty or all-NA columns when determining the result dtypes. To retain the old behavior, exclude the relevant entries before the concat operation.\n",
      "  df_final = pd.concat([df_final, aux])\n",
      "C:\\Users\\pedro\\AppData\\Local\\Temp\\ipykernel_34408\\1401959602.py:15: FutureWarning: The behavior of DataFrame concatenation with empty or all-NA entries is deprecated. In a future version, this will no longer exclude empty or all-NA columns when determining the result dtypes. To retain the old behavior, exclude the relevant entries before the concat operation.\n",
      "  df_final = pd.concat([df_final, aux])\n",
      "C:\\Users\\pedro\\AppData\\Local\\Temp\\ipykernel_34408\\1401959602.py:15: FutureWarning: The behavior of DataFrame concatenation with empty or all-NA entries is deprecated. In a future version, this will no longer exclude empty or all-NA columns when determining the result dtypes. To retain the old behavior, exclude the relevant entries before the concat operation.\n",
      "  df_final = pd.concat([df_final, aux])\n",
      "C:\\Users\\pedro\\AppData\\Local\\Temp\\ipykernel_34408\\1401959602.py:15: FutureWarning: The behavior of DataFrame concatenation with empty or all-NA entries is deprecated. In a future version, this will no longer exclude empty or all-NA columns when determining the result dtypes. To retain the old behavior, exclude the relevant entries before the concat operation.\n",
      "  df_final = pd.concat([df_final, aux])\n",
      "C:\\Users\\pedro\\AppData\\Local\\Temp\\ipykernel_34408\\1401959602.py:15: FutureWarning: The behavior of DataFrame concatenation with empty or all-NA entries is deprecated. In a future version, this will no longer exclude empty or all-NA columns when determining the result dtypes. To retain the old behavior, exclude the relevant entries before the concat operation.\n",
      "  df_final = pd.concat([df_final, aux])\n",
      "C:\\Users\\pedro\\AppData\\Local\\Temp\\ipykernel_34408\\1401959602.py:15: FutureWarning: The behavior of DataFrame concatenation with empty or all-NA entries is deprecated. In a future version, this will no longer exclude empty or all-NA columns when determining the result dtypes. To retain the old behavior, exclude the relevant entries before the concat operation.\n",
      "  df_final = pd.concat([df_final, aux])\n",
      "C:\\Users\\pedro\\AppData\\Local\\Temp\\ipykernel_34408\\1401959602.py:15: FutureWarning: The behavior of DataFrame concatenation with empty or all-NA entries is deprecated. In a future version, this will no longer exclude empty or all-NA columns when determining the result dtypes. To retain the old behavior, exclude the relevant entries before the concat operation.\n",
      "  df_final = pd.concat([df_final, aux])\n",
      "C:\\Users\\pedro\\AppData\\Local\\Temp\\ipykernel_34408\\1401959602.py:15: FutureWarning: The behavior of DataFrame concatenation with empty or all-NA entries is deprecated. In a future version, this will no longer exclude empty or all-NA columns when determining the result dtypes. To retain the old behavior, exclude the relevant entries before the concat operation.\n",
      "  df_final = pd.concat([df_final, aux])\n",
      "C:\\Users\\pedro\\AppData\\Local\\Temp\\ipykernel_34408\\1401959602.py:15: FutureWarning: The behavior of DataFrame concatenation with empty or all-NA entries is deprecated. In a future version, this will no longer exclude empty or all-NA columns when determining the result dtypes. To retain the old behavior, exclude the relevant entries before the concat operation.\n",
      "  df_final = pd.concat([df_final, aux])\n",
      "C:\\Users\\pedro\\AppData\\Local\\Temp\\ipykernel_34408\\1401959602.py:15: FutureWarning: The behavior of DataFrame concatenation with empty or all-NA entries is deprecated. In a future version, this will no longer exclude empty or all-NA columns when determining the result dtypes. To retain the old behavior, exclude the relevant entries before the concat operation.\n",
      "  df_final = pd.concat([df_final, aux])\n",
      "C:\\Users\\pedro\\AppData\\Local\\Temp\\ipykernel_34408\\1401959602.py:15: FutureWarning: The behavior of DataFrame concatenation with empty or all-NA entries is deprecated. In a future version, this will no longer exclude empty or all-NA columns when determining the result dtypes. To retain the old behavior, exclude the relevant entries before the concat operation.\n",
      "  df_final = pd.concat([df_final, aux])\n",
      "C:\\Users\\pedro\\AppData\\Local\\Temp\\ipykernel_34408\\1401959602.py:15: FutureWarning: The behavior of DataFrame concatenation with empty or all-NA entries is deprecated. In a future version, this will no longer exclude empty or all-NA columns when determining the result dtypes. To retain the old behavior, exclude the relevant entries before the concat operation.\n",
      "  df_final = pd.concat([df_final, aux])\n",
      "C:\\Users\\pedro\\AppData\\Local\\Temp\\ipykernel_34408\\1401959602.py:15: FutureWarning: The behavior of DataFrame concatenation with empty or all-NA entries is deprecated. In a future version, this will no longer exclude empty or all-NA columns when determining the result dtypes. To retain the old behavior, exclude the relevant entries before the concat operation.\n",
      "  df_final = pd.concat([df_final, aux])\n",
      "C:\\Users\\pedro\\AppData\\Local\\Temp\\ipykernel_34408\\1401959602.py:15: FutureWarning: The behavior of DataFrame concatenation with empty or all-NA entries is deprecated. In a future version, this will no longer exclude empty or all-NA columns when determining the result dtypes. To retain the old behavior, exclude the relevant entries before the concat operation.\n",
      "  df_final = pd.concat([df_final, aux])\n",
      "C:\\Users\\pedro\\AppData\\Local\\Temp\\ipykernel_34408\\1401959602.py:15: FutureWarning: The behavior of DataFrame concatenation with empty or all-NA entries is deprecated. In a future version, this will no longer exclude empty or all-NA columns when determining the result dtypes. To retain the old behavior, exclude the relevant entries before the concat operation.\n",
      "  df_final = pd.concat([df_final, aux])\n",
      "C:\\Users\\pedro\\AppData\\Local\\Temp\\ipykernel_34408\\1401959602.py:15: FutureWarning: The behavior of DataFrame concatenation with empty or all-NA entries is deprecated. In a future version, this will no longer exclude empty or all-NA columns when determining the result dtypes. To retain the old behavior, exclude the relevant entries before the concat operation.\n",
      "  df_final = pd.concat([df_final, aux])\n",
      "C:\\Users\\pedro\\AppData\\Local\\Temp\\ipykernel_34408\\1401959602.py:15: FutureWarning: The behavior of DataFrame concatenation with empty or all-NA entries is deprecated. In a future version, this will no longer exclude empty or all-NA columns when determining the result dtypes. To retain the old behavior, exclude the relevant entries before the concat operation.\n",
      "  df_final = pd.concat([df_final, aux])\n",
      "C:\\Users\\pedro\\AppData\\Local\\Temp\\ipykernel_34408\\1401959602.py:15: FutureWarning: The behavior of DataFrame concatenation with empty or all-NA entries is deprecated. In a future version, this will no longer exclude empty or all-NA columns when determining the result dtypes. To retain the old behavior, exclude the relevant entries before the concat operation.\n",
      "  df_final = pd.concat([df_final, aux])\n",
      "C:\\Users\\pedro\\AppData\\Local\\Temp\\ipykernel_34408\\1401959602.py:15: FutureWarning: The behavior of DataFrame concatenation with empty or all-NA entries is deprecated. In a future version, this will no longer exclude empty or all-NA columns when determining the result dtypes. To retain the old behavior, exclude the relevant entries before the concat operation.\n",
      "  df_final = pd.concat([df_final, aux])\n",
      "C:\\Users\\pedro\\AppData\\Local\\Temp\\ipykernel_34408\\1401959602.py:15: FutureWarning: The behavior of DataFrame concatenation with empty or all-NA entries is deprecated. In a future version, this will no longer exclude empty or all-NA columns when determining the result dtypes. To retain the old behavior, exclude the relevant entries before the concat operation.\n",
      "  df_final = pd.concat([df_final, aux])\n",
      "C:\\Users\\pedro\\AppData\\Local\\Temp\\ipykernel_34408\\1401959602.py:15: FutureWarning: The behavior of DataFrame concatenation with empty or all-NA entries is deprecated. In a future version, this will no longer exclude empty or all-NA columns when determining the result dtypes. To retain the old behavior, exclude the relevant entries before the concat operation.\n",
      "  df_final = pd.concat([df_final, aux])\n",
      "C:\\Users\\pedro\\AppData\\Local\\Temp\\ipykernel_34408\\1401959602.py:15: FutureWarning: The behavior of DataFrame concatenation with empty or all-NA entries is deprecated. In a future version, this will no longer exclude empty or all-NA columns when determining the result dtypes. To retain the old behavior, exclude the relevant entries before the concat operation.\n",
      "  df_final = pd.concat([df_final, aux])\n",
      "C:\\Users\\pedro\\AppData\\Local\\Temp\\ipykernel_34408\\1401959602.py:15: FutureWarning: The behavior of DataFrame concatenation with empty or all-NA entries is deprecated. In a future version, this will no longer exclude empty or all-NA columns when determining the result dtypes. To retain the old behavior, exclude the relevant entries before the concat operation.\n",
      "  df_final = pd.concat([df_final, aux])\n",
      "C:\\Users\\pedro\\AppData\\Local\\Temp\\ipykernel_34408\\1401959602.py:15: FutureWarning: The behavior of DataFrame concatenation with empty or all-NA entries is deprecated. In a future version, this will no longer exclude empty or all-NA columns when determining the result dtypes. To retain the old behavior, exclude the relevant entries before the concat operation.\n",
      "  df_final = pd.concat([df_final, aux])\n",
      "C:\\Users\\pedro\\AppData\\Local\\Temp\\ipykernel_34408\\1401959602.py:15: FutureWarning: The behavior of DataFrame concatenation with empty or all-NA entries is deprecated. In a future version, this will no longer exclude empty or all-NA columns when determining the result dtypes. To retain the old behavior, exclude the relevant entries before the concat operation.\n",
      "  df_final = pd.concat([df_final, aux])\n",
      "C:\\Users\\pedro\\AppData\\Local\\Temp\\ipykernel_34408\\1401959602.py:15: FutureWarning: The behavior of DataFrame concatenation with empty or all-NA entries is deprecated. In a future version, this will no longer exclude empty or all-NA columns when determining the result dtypes. To retain the old behavior, exclude the relevant entries before the concat operation.\n",
      "  df_final = pd.concat([df_final, aux])\n",
      "C:\\Users\\pedro\\AppData\\Local\\Temp\\ipykernel_34408\\1401959602.py:15: FutureWarning: The behavior of DataFrame concatenation with empty or all-NA entries is deprecated. In a future version, this will no longer exclude empty or all-NA columns when determining the result dtypes. To retain the old behavior, exclude the relevant entries before the concat operation.\n",
      "  df_final = pd.concat([df_final, aux])\n",
      "C:\\Users\\pedro\\AppData\\Local\\Temp\\ipykernel_34408\\1401959602.py:15: FutureWarning: The behavior of DataFrame concatenation with empty or all-NA entries is deprecated. In a future version, this will no longer exclude empty or all-NA columns when determining the result dtypes. To retain the old behavior, exclude the relevant entries before the concat operation.\n",
      "  df_final = pd.concat([df_final, aux])\n",
      "C:\\Users\\pedro\\AppData\\Local\\Temp\\ipykernel_34408\\1401959602.py:15: FutureWarning: The behavior of DataFrame concatenation with empty or all-NA entries is deprecated. In a future version, this will no longer exclude empty or all-NA columns when determining the result dtypes. To retain the old behavior, exclude the relevant entries before the concat operation.\n",
      "  df_final = pd.concat([df_final, aux])\n",
      "C:\\Users\\pedro\\AppData\\Local\\Temp\\ipykernel_34408\\1401959602.py:15: FutureWarning: The behavior of DataFrame concatenation with empty or all-NA entries is deprecated. In a future version, this will no longer exclude empty or all-NA columns when determining the result dtypes. To retain the old behavior, exclude the relevant entries before the concat operation.\n",
      "  df_final = pd.concat([df_final, aux])\n",
      "C:\\Users\\pedro\\AppData\\Local\\Temp\\ipykernel_34408\\1401959602.py:15: FutureWarning: The behavior of DataFrame concatenation with empty or all-NA entries is deprecated. In a future version, this will no longer exclude empty or all-NA columns when determining the result dtypes. To retain the old behavior, exclude the relevant entries before the concat operation.\n",
      "  df_final = pd.concat([df_final, aux])\n",
      "C:\\Users\\pedro\\AppData\\Local\\Temp\\ipykernel_34408\\1401959602.py:15: FutureWarning: The behavior of DataFrame concatenation with empty or all-NA entries is deprecated. In a future version, this will no longer exclude empty or all-NA columns when determining the result dtypes. To retain the old behavior, exclude the relevant entries before the concat operation.\n",
      "  df_final = pd.concat([df_final, aux])\n",
      "C:\\Users\\pedro\\AppData\\Local\\Temp\\ipykernel_34408\\1401959602.py:15: FutureWarning: The behavior of DataFrame concatenation with empty or all-NA entries is deprecated. In a future version, this will no longer exclude empty or all-NA columns when determining the result dtypes. To retain the old behavior, exclude the relevant entries before the concat operation.\n",
      "  df_final = pd.concat([df_final, aux])\n",
      "C:\\Users\\pedro\\AppData\\Local\\Temp\\ipykernel_34408\\1401959602.py:15: FutureWarning: The behavior of DataFrame concatenation with empty or all-NA entries is deprecated. In a future version, this will no longer exclude empty or all-NA columns when determining the result dtypes. To retain the old behavior, exclude the relevant entries before the concat operation.\n",
      "  df_final = pd.concat([df_final, aux])\n",
      "C:\\Users\\pedro\\AppData\\Local\\Temp\\ipykernel_34408\\1401959602.py:15: FutureWarning: The behavior of DataFrame concatenation with empty or all-NA entries is deprecated. In a future version, this will no longer exclude empty or all-NA columns when determining the result dtypes. To retain the old behavior, exclude the relevant entries before the concat operation.\n",
      "  df_final = pd.concat([df_final, aux])\n",
      "C:\\Users\\pedro\\AppData\\Local\\Temp\\ipykernel_34408\\1401959602.py:15: FutureWarning: The behavior of DataFrame concatenation with empty or all-NA entries is deprecated. In a future version, this will no longer exclude empty or all-NA columns when determining the result dtypes. To retain the old behavior, exclude the relevant entries before the concat operation.\n",
      "  df_final = pd.concat([df_final, aux])\n"
     ]
    }
   ],
   "source": [
    "# Conversao do informe metar para uma tabela de dados\n",
    "def convert_metar(df_met):\n",
    "    df_final = pd.DataFrame()\n",
    "    for i, row in df_met.iterrows():\n",
    "        met, date = row['metar'], row['hora_ref']\n",
    "        try:\n",
    "            aux = parse_metar_to_dataframe(met, year=int(date[:4]), month=int(date[5:7]))\n",
    "            # aux.drop('station_id', axis=1, inplace=True)\n",
    "            # aux.reset_index(inplace=True)\n",
    "            aux.dropna(axis=0, how='all', inplace=True)\n",
    "            if aux is not None:\n",
    "                aux['meta'] = met\n",
    "                aux['date'] = date\n",
    "                # return aux\n",
    "                df_final = pd.concat([df_final, aux])\n",
    "        except: \n",
    "            print(met, date)\n",
    "            break\n",
    "    return df_final\n",
    "    \n",
    "    \n",
    "df_metar = convert_metar(df[['metar', 'hora_ref']].loc[~df['metar'].isna()].drop_duplicates())"
   ]
  },
  {
   "cell_type": "code",
   "execution_count": 10,
   "metadata": {},
   "outputs": [
    {
     "data": {
      "text/plain": [
       "station_id                       0\n",
       "latitude                         0\n",
       "longitude                        0\n",
       "elevation                        0\n",
       "date_time                       47\n",
       "wind_direction                3873\n",
       "wind_speed                       1\n",
       "wind_gust                    74620\n",
       "visibility                       4\n",
       "current_wx1                  64812\n",
       "current_wx2                  73177\n",
       "current_wx3                  75191\n",
       "low_cloud_type               20023\n",
       "low_cloud_level              21550\n",
       "medium_cloud_type            46152\n",
       "medium_cloud_level           46152\n",
       "high_cloud_type              66447\n",
       "high_cloud_level             66447\n",
       "highest_cloud_type           74540\n",
       "highest_cloud_level          74540\n",
       "cloud_coverage                   0\n",
       "air_temperature                 79\n",
       "dew_point_temperature          169\n",
       "altimeter                       76\n",
       "current_wx1_symbol               0\n",
       "current_wx2_symbol               0\n",
       "current_wx3_symbol               0\n",
       "remarks                          0\n",
       "air_pressure_at_sea_level       80\n",
       "eastward_wind                 3873\n",
       "northward_wind                3873\n",
       "meta                             0\n",
       "date                             0\n",
       "dtype: int64"
      ]
     },
     "execution_count": 10,
     "metadata": {},
     "output_type": "execute_result"
    }
   ],
   "source": [
    "metar = df_metar[df_metar.columns]\n",
    "metar.isna().sum()"
   ]
  },
  {
   "cell_type": "code",
   "execution_count": 11,
   "metadata": {},
   "outputs": [
    {
     "data": {
      "text/plain": [
       "station_id                           object\n",
       "latitude                            float64\n",
       "longitude                           float64\n",
       "elevation                             int64\n",
       "date_time                    datetime64[ns]\n",
       "wind_direction                      float64\n",
       "wind_speed                          float64\n",
       "visibility                          float64\n",
       "low_cloud_type                       object\n",
       "low_cloud_level                     float64\n",
       "cloud_coverage                        int64\n",
       "air_temperature                     float64\n",
       "dew_point_temperature               float64\n",
       "altimeter                           float64\n",
       "current_wx1_symbol                    int64\n",
       "current_wx2_symbol                    int64\n",
       "current_wx3_symbol                    int64\n",
       "remarks                              object\n",
       "air_pressure_at_sea_level           float64\n",
       "eastward_wind                       float64\n",
       "northward_wind                      float64\n",
       "meta                                 object\n",
       "date                                 object\n",
       "dtype: object"
      ]
     },
     "execution_count": 11,
     "metadata": {},
     "output_type": "execute_result"
    }
   ],
   "source": [
    "# Selecionando colunas que tenham no maximo 30% dos valores nulos para tratamento\n",
    "valid_cols = metar.columns[(metar.isna().sum() <= metar.shape[0]*0.3).values]\n",
    "\n",
    "metar_valid = metar[valid_cols]\n",
    "metar_valid.dtypes"
   ]
  },
  {
   "cell_type": "markdown",
   "metadata": {},
   "source": [
    "Por definicao da biblioteca utilizada, cloud_coverage é uma conversão numérica para low_cloud_type\n",
    "Guia de conversão https://en.wikipedia.org/wiki/Okta"
   ]
  },
  {
   "cell_type": "code",
   "execution_count": 12,
   "metadata": {},
   "outputs": [
    {
     "name": "stderr",
     "output_type": "stream",
     "text": [
      "C:\\Users\\pedro\\AppData\\Local\\Temp\\ipykernel_34408\\497619564.py:1: SettingWithCopyWarning: \n",
      "A value is trying to be set on a copy of a slice from a DataFrame\n",
      "\n",
      "See the caveats in the documentation: https://pandas.pydata.org/pandas-docs/stable/user_guide/indexing.html#returning-a-view-versus-a-copy\n",
      "  metar_valid.drop(['low_cloud_type', 'date_time'], axis=1, inplace=True)\n"
     ]
    }
   ],
   "source": [
    "metar_valid.drop(['low_cloud_type', 'date_time'], axis=1, inplace=True)"
   ]
  },
  {
   "cell_type": "code",
   "execution_count": 58,
   "metadata": {},
   "outputs": [],
   "source": [
    "import numpy as np\n",
    "from sklearn.impute import KNNImputer\n",
    "from sklearn.preprocessing import StandardScaler\n",
    "\n",
    "imputer = KNNImputer(n_neighbors=3)\n",
    "scl = StandardScaler()\n",
    "\n",
    "# Selecao das colunas validas para preenchimento\n",
    "fixed_metar = metar_valid.drop(['meta', 'date', 'station_id', 'remarks'], axis=1).reset_index().drop(['station_id'], axis=1)\n",
    "\n",
    "\n",
    "scl.fit(fixed_metar)\n",
    "\n",
    "aux = pd.DataFrame(scl.transform(fixed_metar))\n",
    "\n",
    "aux2 = pd.DataFrame(imputer.fit_transform(aux))\n",
    "fixed_metar = pd.DataFrame(scl.inverse_transform(aux2), columns=fixed_metar.columns)\n",
    "\n",
    "fixed_metar = pd.concat([metar_valid[['meta', 'date', 'station_id']].drop(['station_id'], axis=1).reset_index(), fixed_metar], axis=1)\n",
    "fixed_metar.to_csv('metar.csv', index=False)"
   ]
  }
 ],
 "metadata": {
  "kernelspec": {
   "display_name": "Python 3",
   "language": "python",
   "name": "python3"
  },
  "language_info": {
   "codemirror_mode": {
    "name": "ipython",
    "version": 3
   },
   "file_extension": ".py",
   "mimetype": "text/x-python",
   "name": "python",
   "nbconvert_exporter": "python",
   "pygments_lexer": "ipython3",
   "version": "3.11.6"
  }
 },
 "nbformat": 4,
 "nbformat_minor": 2
}
