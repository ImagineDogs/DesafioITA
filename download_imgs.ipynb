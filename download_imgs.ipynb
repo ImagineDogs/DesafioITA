{
 "cells": [
  {
   "cell_type": "code",
   "execution_count": 27,
   "metadata": {},
   "outputs": [],
   "source": [
    "import pandas as pd\n",
    "import requests\n",
    "from tqdm import tqdm\n",
    "import io\n",
    "from PIL import Image"
   ]
  },
  {
   "cell_type": "code",
   "execution_count": 2,
   "metadata": {},
   "outputs": [],
   "source": [
    "df = pd.read_csv('dados/public.csv')"
   ]
  },
  {
   "cell_type": "code",
   "execution_count": 28,
   "metadata": {},
   "outputs": [],
   "source": [
    "def get_image(url_img: str, s):\n",
    "\n",
    "    # Download do binário da imagem\n",
    "    bin_img = s.get(url_img).content\n",
    "\n",
    "    # Lê o binário como stream\n",
    "    imageStream = io.BytesIO(bin_img)\n",
    "\n",
    "    # Abre a imagem com PIL\n",
    "    imageFile = Image.open(imageStream)\n",
    "    imageFile.save('imgs/' + url_img.split('/')[-1])\n",
    "    \n",
    "    # # Corta a imagem para apresentar apenas o Brasil\n",
    "    # w = imageFile.width\n",
    "    # h = imageFile.height\n",
    "    # img_brasil = imageFile.crop((1030, 820, w-250, h-620))\n",
    "\n",
    "    # # Converte para numpy (Matrizes RGB)\n",
    "    # img_final = np.array(img_brasil)\n",
    "    \n",
    "    # return img_final"
   ]
  },
  {
   "cell_type": "code",
   "execution_count": 30,
   "metadata": {},
   "outputs": [
    {
     "name": "stderr",
     "output_type": "stream",
     "text": [
      "  1%|          | 45/8465 [00:37<2:24:29,  1.03s/it]"
     ]
    },
    {
     "name": "stdout",
     "output_type": "stream",
     "text": [
      "erro, url:  nan\n"
     ]
    },
    {
     "name": "stderr",
     "output_type": "stream",
     "text": [
      "100%|██████████| 8465/8465 [1:49:01<00:00,  1.29it/s]  \n"
     ]
    }
   ],
   "source": [
    "s = requests.Session()\n",
    "for url in tqdm(df.url_img_satelite.unique()):\n",
    "    try:\n",
    "        get_image(url, s)\n",
    "    except:\n",
    "        print('erro, url: ',url)"
   ]
  }
 ],
 "metadata": {
  "kernelspec": {
   "display_name": "Python 3",
   "language": "python",
   "name": "python3"
  },
  "language_info": {
   "codemirror_mode": {
    "name": "ipython",
    "version": 3
   },
   "file_extension": ".py",
   "mimetype": "text/x-python",
   "name": "python",
   "nbconvert_exporter": "python",
   "pygments_lexer": "ipython3",
   "version": "3.12.3"
  }
 },
 "nbformat": 4,
 "nbformat_minor": 2
}
