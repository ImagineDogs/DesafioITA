{
 "cells": [
  {
   "cell_type": "code",
   "execution_count": 1,
   "metadata": {},
   "outputs": [],
   "source": [
    "import pandas as pd\n",
    "import numpy as np\n",
    "import requests\n",
    "from tqdm import tqdm\n",
    "import io\n",
    "from PIL import Image"
   ]
  },
  {
   "cell_type": "code",
   "execution_count": 2,
   "metadata": {},
   "outputs": [
    {
     "name": "stderr",
     "output_type": "stream",
     "text": [
      "<>:2: SyntaxWarning: invalid escape sequence '\\A'\n",
      "<>:2: SyntaxWarning: invalid escape sequence '\\A'\n",
      "C:\\Users\\Eduardo\\AppData\\Local\\Temp\\ipykernel_13792\\1634027118.py:2: SyntaxWarning: invalid escape sequence '\\A'\n",
      "  df_ap = pd.read_csv('dados\\AerodromosPublicos.csv', sep=';')\n"
     ]
    }
   ],
   "source": [
    "df = pd.read_csv('dados/public.csv')\n",
    "df_ap = pd.read_csv('dados\\AerodromosPublicos.csv', sep=';')\n",
    "df_ap = df_ap[['Código OACI', 'LATGEOPOINT','LONGEOPOINT']]\n",
    "df_ap = df_ap.rename({'LATGEOPOINT': 'LATGEOPOINT_OR','LONGEOPOINT':'LONGEOPOINT_OR'},axis=1)\n",
    "df = df.merge(df_ap, left_on='origem', right_on='Código OACI',how='left')\n",
    "df_ap = df_ap.rename({'LATGEOPOINT_OR': 'LATGEOPOINT_DE','LONGEOPOINT_OR':'LONGEOPOINT_DE'},axis=1)\n",
    "df = df.merge(df_ap, left_on='destino', right_on='Código OACI',how='left')"
   ]
  },
  {
   "cell_type": "code",
   "execution_count": 3,
   "metadata": {},
   "outputs": [],
   "source": [
    "df_train = df[~df.espera.isnull()]\n",
    "df_test = df[df.espera.isnull()]"
   ]
  },
  {
   "cell_type": "code",
   "execution_count": 4,
   "metadata": {},
   "outputs": [],
   "source": [
    "def load_crop_img(path):\n",
    "    image = Image.open(path)\n",
    "    w = image.width\n",
    "    h = image.height\n",
    "    img_brasil = image.crop((1030, 820, w-250, h-620))\n",
    "    return img_brasil"
   ]
  },
  {
   "cell_type": "code",
   "execution_count": 5,
   "metadata": {},
   "outputs": [],
   "source": [
    "def paint_airport(image, lat_airport, lon_airport, color = [148,0,211]):\n",
    "\n",
    "    # Mapas de latitude e longitude do Brasil\n",
    "    lat_map = np.linspace(-33.750812, 5.235216, 888)\n",
    "    lon_map = np.linspace(-73.981645, -34.792202, 912)\n",
    "\n",
    "    # Posicao do aeroporto na imagem\n",
    "    lat_result = np.abs(lat_map - lat_airport).argmin()\n",
    "    lon_result = np.abs(lon_map - lon_airport).argmin()\n",
    "\n",
    "    # Ajuste da latitude\n",
    "    lat_result = 888 - lat_result\n",
    "\n",
    "    # Pinta a imagem\n",
    "    image[lat_result - 25 : lat_result + 25, lon_result - 25 : lon_result + 25 , :] = color \n",
    "\n",
    "    return image"
   ]
  },
  {
   "cell_type": "code",
   "execution_count": 6,
   "metadata": {},
   "outputs": [
    {
     "name": "stderr",
     "output_type": "stream",
     "text": [
      "0it [00:00, ?it/s]"
     ]
    },
    {
     "name": "stderr",
     "output_type": "stream",
     "text": [
      "211679it [1:32:48, 38.01it/s]  \n"
     ]
    }
   ],
   "source": [
    "for id, url, espera, lat_or, lon_or, lat_de, lon_de in tqdm(zip(df_train.flightid ,df_train.url_img_satelite, df_train.espera, df_train.LATGEOPOINT_OR, df_train.LONGEOPOINT_OR, df_train.LATGEOPOINT_DE, df_train.LONGEOPOINT_DE)):\n",
    "    if espera:\n",
    "        label = 'atrasado'\n",
    "    else:\n",
    "        label = 'pontual'\n",
    "    try:\n",
    "        image_name = url.split('/')[-1]\n",
    "        image = load_crop_img('imgs/' + image_name)\n",
    "        np_img = np.array(image)\n",
    "        img_ap = paint_airport(np_img, float(lat_or), float(lon_or))\n",
    "        img_ap = paint_airport(np_img, float(lat_de), float(lon_de), [225,0,132])\n",
    "        image_final = Image.fromarray(img_ap)\n",
    "        image_final = image_final.resize((224,224))\n",
    "        image_final.save(f'dados/train/{label}/{id}.jpg')\n",
    "    except:\n",
    "        continue"
   ]
  },
  {
   "cell_type": "code",
   "execution_count": 7,
   "metadata": {},
   "outputs": [],
   "source": [
    "# for id, url, espera, lat_or, lon_or, lat_de, lon_de in tqdm(zip(df_test.flightid ,df_test.url_img_satelite, df_test.espera, df_test.LATGEOPOINT_OR, df_test.LONGEOPOINT_OR, df_test.LATGEOPOINT_DE, df_test.LONGEOPOINT_DE)):\n",
    "#     try:\n",
    "#         image_name = url.split('/')[-1]\n",
    "#         image = load_crop_img('imgs/' + image_name)\n",
    "#         np_img = np.array(image)\n",
    "#         img_ap = paint_airport(np_img, float(lat_or), float(lon_or))\n",
    "#         img_ap = paint_airport(np_img, float(lat_de), float(lon_de), [225,0,132])\n",
    "#         image_final = Image.fromarray(img_ap)\n",
    "#         image_final = image_final.resize((224,224))\n",
    "#         image_final.save(f'dados/test/test/{id}.jpg')\n",
    "#     except:\n",
    "#         continue"
   ]
  }
 ],
 "metadata": {
  "kernelspec": {
   "display_name": "Python 3",
   "language": "python",
   "name": "python3"
  },
  "language_info": {
   "codemirror_mode": {
    "name": "ipython",
    "version": 3
   },
   "file_extension": ".py",
   "mimetype": "text/x-python",
   "name": "python",
   "nbconvert_exporter": "python",
   "pygments_lexer": "ipython3",
   "version": "3.12.3"
  }
 },
 "nbformat": 4,
 "nbformat_minor": 2
}
