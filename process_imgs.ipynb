{
 "cells": [
  {
   "cell_type": "code",
   "execution_count": 2,
   "metadata": {},
   "outputs": [],
   "source": [
    "import pandas as pd\n",
    "import numpy as np\n",
    "import requests\n",
    "from tqdm import tqdm\n",
    "import io\n",
    "from PIL import Image"
   ]
  },
  {
   "cell_type": "code",
   "execution_count": 3,
   "metadata": {},
   "outputs": [
    {
     "name": "stderr",
     "output_type": "stream",
     "text": [
      "<>:2: SyntaxWarning: invalid escape sequence '\\A'\n",
      "<>:2: SyntaxWarning: invalid escape sequence '\\A'\n",
      "C:\\Users\\Eduardo\\AppData\\Local\\Temp\\ipykernel_5828\\3691857365.py:2: SyntaxWarning: invalid escape sequence '\\A'\n",
      "  df_ap = pd.read_csv('dados\\AerodromosPublicos.csv', sep=';')\n"
     ]
    }
   ],
   "source": [
    "df = pd.read_csv('dados/public.csv')\n",
    "df_ap = pd.read_csv('dados\\AerodromosPublicos.csv', sep=';')\n",
    "df_ap = df_ap[['Código OACI', 'LATGEOPOINT','LONGEOPOINT']]\n",
    "df = df.merge(df_ap, left_on='origem', right_on='Código OACI',how='left')"
   ]
  },
  {
   "cell_type": "code",
   "execution_count": 4,
   "metadata": {},
   "outputs": [],
   "source": [
    "df_train = df[~df.espera.isnull()]\n",
    "df_test = df[df.espera.isnull()]"
   ]
  },
  {
   "cell_type": "code",
   "execution_count": 5,
   "metadata": {},
   "outputs": [],
   "source": [
    "def load_crop_img(path):\n",
    "    image = Image.open(path)\n",
    "    w = image.width\n",
    "    h = image.height\n",
    "    img_brasil = image.crop((1030, 820, w-250, h-620))\n",
    "    return img_brasil"
   ]
  },
  {
   "cell_type": "code",
   "execution_count": 6,
   "metadata": {},
   "outputs": [],
   "source": [
    "def paint_airport(image, lat_airport, lon_airport):\n",
    "\n",
    "    # Mapas de latitude e longitude do Brasil\n",
    "    lat_map = np.linspace(-33.750812, 5.235216, 888)\n",
    "    lon_map = np.linspace(-73.981645, -34.792202, 912)\n",
    "\n",
    "    # Posicao do aeroporto na imagem\n",
    "    lat_result = np.abs(lat_map - lat_airport).argmin()\n",
    "    lon_result = np.abs(lon_map - lon_airport).argmin()\n",
    "\n",
    "    # Ajuste da latitude\n",
    "    lat_result = 888 - lat_result\n",
    "\n",
    "    # Pinta a imagem\n",
    "    image[lat_result - 10 : lat_result + 10, lon_result - 10 : lon_result + 10 , :] = [148,0,211] # Roxo\n",
    "\n",
    "    return image"
   ]
  },
  {
   "cell_type": "code",
   "execution_count": 8,
   "metadata": {},
   "outputs": [
    {
     "name": "stderr",
     "output_type": "stream",
     "text": [
      "211679it [1:32:15, 38.24it/s]  \n"
     ]
    }
   ],
   "source": [
    "for id, url, espera, lat, lon in tqdm(zip(df_train.flightid ,df_train.url_img_satelite, df_train.espera, df_train.LATGEOPOINT, df_train.LONGEOPOINT)):\n",
    "    try:\n",
    "        image_name = url.split('/')[-1]\n",
    "        image = load_crop_img('imgs/' + image_name)\n",
    "        np_img = np.array(image)\n",
    "        img_ap = paint_airport(np_img, float(lat), float(lon))\n",
    "        image_final = Image.fromarray(img_ap)\n",
    "        image_final = image_final.resize((224,224))\n",
    "    except:\n",
    "        continue\n",
    "    if espera:\n",
    "        label = 'atrasado'\n",
    "    else:\n",
    "        label = 'pontual'\n",
    "    image_final.save(f'dados/imgs/{label}/{id}.jpg')"
   ]
  },
  {
   "cell_type": "code",
   "execution_count": 11,
   "metadata": {},
   "outputs": [
    {
     "name": "stderr",
     "output_type": "stream",
     "text": [
      "90720it [42:58, 35.19it/s] \n"
     ]
    }
   ],
   "source": [
    "for id, url, lat, lon in tqdm(zip(df_test.flightid ,df_test.url_img_satelite, df_test.LATGEOPOINT, df_test.LONGEOPOINT)):\n",
    "    try:\n",
    "        image_name = url.split('/')[-1]\n",
    "        image = load_crop_img('imgs/' + image_name)\n",
    "        np_img = np.array(image)\n",
    "        img_ap = paint_airport(np_img, float(lat), float(lon))\n",
    "        image_final = Image.fromarray(img_ap)\n",
    "        image_final = image_final.resize((224,224))\n",
    "    except:\n",
    "        continue\n",
    "    image_final.save(f'dados/test/{id}.jpg')"
   ]
  }
 ],
 "metadata": {
  "kernelspec": {
   "display_name": "Python 3",
   "language": "python",
   "name": "python3"
  },
  "language_info": {
   "codemirror_mode": {
    "name": "ipython",
    "version": 3
   },
   "file_extension": ".py",
   "mimetype": "text/x-python",
   "name": "python",
   "nbconvert_exporter": "python",
   "pygments_lexer": "ipython3",
   "version": "3.12.3"
  }
 },
 "nbformat": 4,
 "nbformat_minor": 2
}
